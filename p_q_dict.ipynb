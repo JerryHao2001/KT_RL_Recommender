{
 "cells": [
  {
   "cell_type": "code",
   "execution_count": 44,
   "metadata": {},
   "outputs": [],
   "source": [
    "import csv\n",
    "import os\n",
    "import random"
   ]
  },
  {
   "cell_type": "code",
   "execution_count": 45,
   "metadata": {},
   "outputs": [],
   "source": [
    "def load_p_q_dict(folder_path, units=None):\n",
    "    def iterate_over_data(file_path):\n",
    "        with open(file_path, mode='r') as file:\n",
    "            reader = csv.reader(file)\n",
    "            rows = list(reader)\n",
    "\n",
    "            # Iterate over the rows in groups of 4\n",
    "            for i in range(0, len(rows), 4):\n",
    "                # Extract the question ids and concept ids\n",
    "                question_ids = [int(q) for q in rows[i+1] if q]\n",
    "                concept_ids = [int(c) for c in rows[i+2] if c]\n",
    "                q_c_ids = [(int(q),int(c)) for (q,c) in zip(rows[i+1],rows[i+2]) if (q and c and ((units is None) or (int(c) in units)))]\n",
    "\n",
    "                # Build the dictionary mapping question ids to concept ids\n",
    "                for question_id, concept_id in q_c_ids:\n",
    "                    if question_id not in question_concept_dict:\n",
    "                        question_concept_dict[question_id] = concept_id\n",
    "                    if concept_id not in concept_question_dict:\n",
    "                        concept_question_dict[concept_id] = {question_id}\n",
    "                    else:\n",
    "                        concept_question_dict[concept_id].add(question_id)\n",
    "\n",
    "    all_files = os.listdir(folder_path)\n",
    "\n",
    "    # Filter the list to include only CSV files\n",
    "    csv_files = [file for file in all_files if file.endswith('.csv')]\n",
    "\n",
    "    question_concept_dict = {}\n",
    "    concept_question_dict = {}\n",
    "    for f in csv_files:\n",
    "        old_dict = question_concept_dict.copy()\n",
    "        iterate_over_data(folder_path+'/'+ f)\n",
    "        if old_dict == question_concept_dict:\n",
    "            break\n",
    "    \n",
    "    return question_concept_dict,concept_question_dict\n"
   ]
  },
  {
   "cell_type": "code",
   "execution_count": 49,
   "metadata": {},
   "outputs": [],
   "source": [
    "folder_path = 'data/assist2009_pid'\n",
    "p_q_dict, q_p_dict = load_p_q_dict(folder_path,units=[1,2])"
   ]
  },
  {
   "cell_type": "code",
   "execution_count": 25,
   "metadata": {},
   "outputs": [],
   "source": [
    "sampled_questions = []\n",
    "n_question_per_type = 10\n",
    "for question_type, question_ids in q_p_dict.items():\n",
    "    sampled_questions += random.sample([*question_ids], min(n_question_per_type, len(question_ids)))"
   ]
  }
 ],
 "metadata": {
  "kernelspec": {
   "display_name": "dkt",
   "language": "python",
   "name": "python3"
  },
  "language_info": {
   "codemirror_mode": {
    "name": "ipython",
    "version": 3
   },
   "file_extension": ".py",
   "mimetype": "text/x-python",
   "name": "python",
   "nbconvert_exporter": "python",
   "pygments_lexer": "ipython3",
   "version": "3.9.19"
  }
 },
 "nbformat": 4,
 "nbformat_minor": 2
}
