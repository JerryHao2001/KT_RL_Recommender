{
 "cells": [
  {
   "cell_type": "code",
   "execution_count": 1,
   "metadata": {},
   "outputs": [],
   "source": [
    "import csv\n",
    "import os"
   ]
  },
  {
   "cell_type": "code",
   "execution_count": 2,
   "metadata": {},
   "outputs": [],
   "source": [
    "def load_p_q_dict(folder_path):\n",
    "    def iterate_over_data(file_path):\n",
    "        with open(file_path, mode='r') as file:\n",
    "            reader = csv.reader(file)\n",
    "            rows = list(reader)\n",
    "\n",
    "            # Iterate over the rows in groups of 4\n",
    "            for i in range(0, len(rows), 4):\n",
    "                # Extract the question ids and concept ids\n",
    "                question_ids = [int(q) for q in rows[i+1] if q]\n",
    "                concept_ids = [int(c) for c in rows[i+2] if c]\n",
    "                \n",
    "                # Build the dictionary mapping question ids to concept ids\n",
    "                for question_id, concept_id in zip(question_ids, concept_ids):\n",
    "                    if question_id not in question_concept_dict:\n",
    "                        question_concept_dict[question_id] = concept_id\n",
    "\n",
    "    all_files = os.listdir(folder_path)\n",
    "\n",
    "    # Filter the list to include only CSV files\n",
    "    csv_files = [file for file in all_files if file.endswith('.csv')]\n",
    "\n",
    "    question_concept_dict = {}\n",
    "    for f in csv_files:\n",
    "        old_dict = question_concept_dict.copy()\n",
    "        iterate_over_data(folder_path+'/'+ f)\n",
    "        if old_dict == question_concept_dict:\n",
    "            break\n",
    "    \n",
    "    return question_concept_dict\n"
   ]
  },
  {
   "cell_type": "code",
   "execution_count": 3,
   "metadata": {},
   "outputs": [],
   "source": [
    "folder_path = 'data/assist2009_pid'\n",
    "p_q_dict = load_p_q_dict(folder_path)"
   ]
  },
  {
   "cell_type": "code",
   "execution_count": 5,
   "metadata": {},
   "outputs": [
    {
     "ename": "KeyError",
     "evalue": "0",
     "output_type": "error",
     "traceback": [
      "\u001b[1;31m---------------------------------------------------------------------------\u001b[0m",
      "\u001b[1;31mKeyError\u001b[0m                                  Traceback (most recent call last)",
      "Cell \u001b[1;32mIn[5], line 1\u001b[0m\n\u001b[1;32m----> 1\u001b[0m \u001b[43mp_q_dict\u001b[49m\u001b[43m[\u001b[49m\u001b[38;5;241;43m0\u001b[39;49m\u001b[43m]\u001b[49m\n",
      "\u001b[1;31mKeyError\u001b[0m: 0"
     ]
    }
   ],
   "source": [
    "p_q_dict[0]"
   ]
  }
 ],
 "metadata": {
  "kernelspec": {
   "display_name": "dkt",
   "language": "python",
   "name": "python3"
  },
  "language_info": {
   "codemirror_mode": {
    "name": "ipython",
    "version": 3
   },
   "file_extension": ".py",
   "mimetype": "text/x-python",
   "name": "python",
   "nbconvert_exporter": "python",
   "pygments_lexer": "ipython3",
   "version": "3.9.19"
  }
 },
 "nbformat": 4,
 "nbformat_minor": 2
}
