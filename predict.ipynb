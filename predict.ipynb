{
 "cells": [
  {
   "cell_type": "code",
   "execution_count": 131,
   "metadata": {},
   "outputs": [],
   "source": [
    "import torch\n",
    "from torch import nn\n",
    "from torch.nn.init import xavier_uniform_\n",
    "from torch.nn.init import constant_\n",
    "from torch.nn.init import xavier_normal_\n",
    "import math\n",
    "import torch.nn.functional as F\n",
    "from enum import IntEnum\n",
    "import numpy as np\n",
    "import pickle\n",
    "from akt import AKT\n",
    "import os\n",
    "from load_data import DATA, PID_DATA\n",
    "\n",
    "\n",
    "device = torch.device(\"cuda\" if torch.cuda.is_available() else \"cpu\")\n",
    "# device = 'cpu'\n",
    "\n",
    "with open('result/akt_pid/assist2009_pid/args.pkl', 'rb') as f:\n",
    "    params = pickle.load(f)"
   ]
  },
  {
   "cell_type": "code",
   "execution_count": 132,
   "metadata": {},
   "outputs": [
    {
     "data": {
      "text/plain": [
       "<All keys matched successfully>"
      ]
     },
     "execution_count": 132,
     "metadata": {},
     "output_type": "execute_result"
    }
   ],
   "source": [
    "model_type = 'akt'\n",
    "filename = \"_b24_nb1_gn-1_lr1e-05_s224_sl200_do0.05_dm256_ts1_kq1_l21e-05_178\"\n",
    "model = AKT(n_question=params.n_question, n_pid=params.n_pid, n_blocks=params.n_block, d_model=params.d_model,\n",
    "                    dropout=params.dropout, kq_same=params.kq_same, model_type=model_type, l2=params.l2).to(device)\n",
    "\n",
    "checkpoint = torch.load(os.path.join( 'model', params.model, params.save, filename))\n",
    "model.load_state_dict(checkpoint['model_state_dict'])\n"
   ]
  },
  {
   "cell_type": "code",
   "execution_count": 133,
   "metadata": {},
   "outputs": [
    {
     "data": {
      "text/plain": [
       "Namespace(max_iter=300, train_set=1, seed=224, optim='adam', batch_size=24, lr=1e-05, maxgradnorm=-1, final_fc_dim=512, d_model=256, d_ff=1024, dropout=0.05, n_block=1, n_head=8, kq_same=1, l2=1e-05, q_embed_dim=50, qa_embed_dim=256, memory_size=50, init_std=0.1, hidden_dim=512, lamda_r=0.1, lamda_w1=0.1, lamda_w2=0.1, model='akt_pid', dataset='assist2009_pid', n_question=110, seqlen=200, data_dir='data/assist2009_pid', data_name='assist2009_pid', n_pid=16891, save='assist2009_pid', load='assist2009_pid')"
      ]
     },
     "execution_count": 133,
     "metadata": {},
     "output_type": "execute_result"
    }
   ],
   "source": [
    "params"
   ]
  },
  {
   "cell_type": "code",
   "execution_count": 134,
   "metadata": {},
   "outputs": [],
   "source": [
    "train_data_path = \"assist2009_pid_example1.csv\"\n",
    "if \"pid\" not in params.data_name:\n",
    "    dat = DATA(n_question=params.n_question,\n",
    "                seqlen=params.seqlen, separate_char=',')\n",
    "else:\n",
    "    dat = PID_DATA(n_question=params.n_question,\n",
    "                    seqlen=params.seqlen, separate_char=',')\n",
    "    \n",
    "train_q_data, train_qa_data, train_pid = dat.load_data(train_data_path)\n",
    "q, qa, pid = train_q_data[:,:], train_qa_data[:,:], train_pid[:,:]\n",
    "target = qa[:,:]\n",
    "target = (target - 1) / params.n_question\n",
    "target_1 = np.floor(target)"
   ]
  },
  {
   "cell_type": "code",
   "execution_count": 135,
   "metadata": {},
   "outputs": [],
   "source": [
    "q = torch.from_numpy(q).long().to(device)\n",
    "qa = torch.from_numpy(qa).long().to(device) #qa = q+target*n_question\n",
    "target = torch.from_numpy(target_1).long().to(device)\n",
    "pid = torch.from_numpy(pid).long().to(device)"
   ]
  },
  {
   "cell_type": "code",
   "execution_count": 136,
   "metadata": {},
   "outputs": [
    {
     "data": {
      "text/plain": [
       "torch.Size([1, 200])"
      ]
     },
     "execution_count": 136,
     "metadata": {},
     "output_type": "execute_result"
    }
   ],
   "source": [
    "pid.shape"
   ]
  },
  {
   "cell_type": "code",
   "execution_count": 137,
   "metadata": {},
   "outputs": [],
   "source": [
    "model.eval()\n",
    "with torch.no_grad():\n",
    "    loss, pred, ct = model(q,qa,target,pid)"
   ]
  },
  {
   "cell_type": "code",
   "execution_count": 138,
   "metadata": {},
   "outputs": [],
   "source": [
    "target = target_1.reshape((-1,))\n",
    "nopadding_index = np.flatnonzero(target >= -0.9)\n",
    "nopadding_index = nopadding_index.tolist()\n",
    "pred_nopadding = pred[nopadding_index]\n",
    "target_nopadding = target[nopadding_index]"
   ]
  },
  {
   "cell_type": "code",
   "execution_count": 139,
   "metadata": {},
   "outputs": [
    {
     "data": {
      "text/plain": [
       "tensor([0.3372, 0.2478], device='cuda:0')"
      ]
     },
     "execution_count": 139,
     "metadata": {},
     "output_type": "execute_result"
    }
   ],
   "source": [
    "pred_nopadding"
   ]
  },
  {
   "cell_type": "code",
   "execution_count": 140,
   "metadata": {},
   "outputs": [
    {
     "data": {
      "text/plain": [
       "array([0., 1.])"
      ]
     },
     "execution_count": 140,
     "metadata": {},
     "output_type": "execute_result"
    }
   ],
   "source": [
    "target_nopadding"
   ]
  },
  {
   "cell_type": "code",
   "execution_count": 141,
   "metadata": {},
   "outputs": [],
   "source": [
    "history = {'q':[1,3,6],'target':[1,0,1],'pid':[3,5,7]} \n",
    "q,target,pid = (np.array(value) for value in history.values())\n",
    "qa = q+target*13\n",
    "\n",
    "padded_q = np.zeros((1, 10))\n",
    "padded_qa = np.zeros((1, 10))\n",
    "padded_target = np.full((1,10),-1)\n",
    "padded_pid = np.zeros((1, 10))\n",
    "\n",
    "padded_q[0, :len(q)] = q\n",
    "padded_qa[0, :len(q)] = qa\n",
    "padded_target[0, :len(target)] = target\n",
    "padded_pid[0, :len(pid)] = pid\n",
    "\n",
    "q = torch.tensor(padded_q).long().to(device)\n",
    "qa = torch.tensor(padded_qa).long().to(device)\n",
    "target = torch.tensor(padded_target).long().to(device)\n",
    "pid = torch.tensor(padded_pid).long().to(device)\n",
    "\n",
    "\n",
    "model.eval()\n",
    "with torch.no_grad():\n",
    "    loss, pred, ct = model(q,qa,target,pid)\n",
    "# # target_1 = np.floor(target)\n",
    "# q = torch.tensor(q+[self.curr_q]).long().to(self.device)\n",
    "# target = torch.tensor(target_1+[0]).long().to(self.device)\n",
    "# pid = torch.tensor(pid+[self.curr_pid]).long().to(self.device)\n",
    "# qa = q+target*self.params.n_question"
   ]
  },
  {
   "cell_type": "code",
   "execution_count": 142,
   "metadata": {},
   "outputs": [],
   "source": [
    "nopadding_index = np.flatnonzero(padded_target.reshape((-1,)) >= -0.9).tolist()"
   ]
  },
  {
   "cell_type": "code",
   "execution_count": 148,
   "metadata": {},
   "outputs": [
    {
     "data": {
      "text/plain": [
       "0.010884453542530537"
      ]
     },
     "execution_count": 148,
     "metadata": {},
     "output_type": "execute_result"
    }
   ],
   "source": [
    "pred[nopadding_index][-1].item()"
   ]
  },
  {
   "cell_type": "code",
   "execution_count": 146,
   "metadata": {},
   "outputs": [
    {
     "data": {
      "text/plain": [
       "tensor(False)"
      ]
     },
     "execution_count": 146,
     "metadata": {},
     "output_type": "execute_result"
    }
   ],
   "source": []
  },
  {
   "cell_type": "code",
   "execution_count": 121,
   "metadata": {},
   "outputs": [
    {
     "data": {
      "text/plain": [
       "array([ 1,  0,  1, -1, -1, -1, -1, -1, -1, -1])"
      ]
     },
     "execution_count": 121,
     "metadata": {},
     "output_type": "execute_result"
    }
   ],
   "source": [
    "padded_target.reshape((-1,))"
   ]
  },
  {
   "cell_type": "code",
   "execution_count": 116,
   "metadata": {},
   "outputs": [
    {
     "data": {
      "text/plain": [
       "array([1, 0, 1])"
      ]
     },
     "execution_count": 116,
     "metadata": {},
     "output_type": "execute_result"
    }
   ],
   "source": [
    "target.reshape((-1,))"
   ]
  }
 ],
 "metadata": {
  "kernelspec": {
   "display_name": "dkt",
   "language": "python",
   "name": "python3"
  },
  "language_info": {
   "codemirror_mode": {
    "name": "ipython",
    "version": 3
   },
   "file_extension": ".py",
   "mimetype": "text/x-python",
   "name": "python",
   "nbconvert_exporter": "python",
   "pygments_lexer": "ipython3",
   "version": "3.9.19"
  }
 },
 "nbformat": 4,
 "nbformat_minor": 2
}
